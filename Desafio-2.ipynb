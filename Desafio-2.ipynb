{
 "cells": [
  {
   "cell_type": "markdown",
   "id": "7155d5ed",
   "metadata": {},
   "source": [
    "# Desafio de Programação – Warren Tech Academy"
   ]
  },
  {
   "cell_type": "markdown",
   "id": "8b914094",
   "metadata": {},
   "source": [
    "## Desafio 2"
   ]
  },
  {
   "cell_type": "markdown",
   "id": "bc4ea8f6",
   "metadata": {},
   "source": [
    "Um professor de programação, frustrado com a falta de disciplina de seus alunos, decidi cancelar a aula se menos de x alunos estiverem presentes quando a aula for iniciada. O tempo de chegada varia entre:\n",
    "\n",
    "Normal: tempoChegada <= 0\n",
    "\n",
    "Atraso: tempoChegada > 0\n",
    "\n",
    "Construa um algoritmo que dado o tempo de chegada de cada aluno e o limite x de alunos presentes, determina se a classe vai ser cancelada ou não (\"Aula cancelada” ou “Aula normal”).\n",
    "\n",
    "Exemplo:\n",
    "\n",
    "Entrada de dados:\n",
    "\n",
    "x = 3\n",
    "\n",
    "tempoChegada = [-2, -1, 0, 1, 2]\n",
    "\n",
    "Saída de dados:\n",
    "Aula normal.\n",
    "\n",
    "Explicação:\n",
    "Os três primeiros alunos chegaram no horário. Os dois últimos estavam atrasados. O limite é de três alunos, portanto a aula não será cancelada."
   ]
  },
  {
   "cell_type": "code",
   "execution_count": null,
   "id": "fd423f63",
   "metadata": {},
   "outputs": [],
   "source": [
    "# 1 - Cria uma lista vazia e duas variáveis Inteiras\n",
    "# 2 - Recebe o dado de nº de alunos total\n",
    "# 3 - Recebe o dado de nº mínimo de alunos pontuais para ter aula normal\n",
    "# 4 - \"Para cada aluno, faça: ...\"\n",
    "# 5 - Cria uma variável \"N\" para servir o usuário ao preencher os dados de cada aluno (em seguida)\n",
    "# 6 - Recebe o dado de horário que aquele aluno chegou para aula\n",
    "# 7 - Verifica se o tempo de chegada foi pontual (<=0), \"Se sim, faça: ...\"\"\n",
    "# 8 - Adiciona +1 na variável com o nº de alunos pontuais\n",
    "# 9 - Verifica se o nº de alunos pontuais é maior ou igual ao mínimo que foi solicitado, \"Se sim, faça: ...\"\n",
    "# 10 - Retorna \"Aula Normal\"\n",
    "# 11 - \"Se não, faça: ...\"\n",
    "# 12 - Retorna, \"Aula Cancelada...\" e o nº de aulunos atrasados\n",
    "\n",
    "# 1\n",
    "tempo_chegada = []\n",
    "total_alunos = 0\n",
    "alunos_pontuais = 0\n",
    "\n",
    "total_alunos = int(input('Quantos alunos existem na turma?: ')) # 2\n",
    "\n",
    "minimo_pontuais = int(input('Quantos alunos pontuais para ocorrer a aula?: ')) # 3\n",
    "\n",
    "for i in range(total_alunos): # 4\n",
    "    N = i+1 # 5\n",
    "    tempo_chegada.append(int(input(f'Horário de chegada do {N}º aluno(a): '))) # 6\n",
    "    if(tempo_chegada[i] <= 0): # 7\n",
    "        alunos_pontuais += 1 # 8\n",
    "    \n",
    "if(alunos_pontuais >= minimo_pontuais): # 9\n",
    "    print(\"\\nAula Normal\") # 10\n",
    "else: # 11\n",
    "    print(f\"\\nAula Cancelada pois {total_alunos-alunos_pontuais} alunos chegaram atrasados.\") # 12"
   ]
  }
 ],
 "metadata": {
  "kernelspec": {
   "display_name": "Python 3 (ipykernel)",
   "language": "python",
   "name": "python3"
  },
  "language_info": {
   "codemirror_mode": {
    "name": "ipython",
    "version": 3
   },
   "file_extension": ".py",
   "mimetype": "text/x-python",
   "name": "python",
   "nbconvert_exporter": "python",
   "pygments_lexer": "ipython3",
   "version": "3.8.12"
  }
 },
 "nbformat": 4,
 "nbformat_minor": 5
}
