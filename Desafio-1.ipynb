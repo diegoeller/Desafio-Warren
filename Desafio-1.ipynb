{
 "cells": [
  {
   "cell_type": "markdown",
   "id": "b9210a81",
   "metadata": {},
   "source": [
    "# Desafio de Programação – Warren Tech Academy"
   ]
  },
  {
   "cell_type": "markdown",
   "id": "277fe223",
   "metadata": {},
   "source": [
    "## Desafio 1"
   ]
  },
  {
   "cell_type": "markdown",
   "id": "d11cecb4",
   "metadata": {},
   "source": [
    "Alguns números inteiros positivos n possuem uma propriedade na qual a soma de n + reverso(n) resultam em números ímpares. Por exemplo, 36 + 63 = 99 e 409 + 904 = 1313. Considere que n ou reverso(n) não podem começar com 0.\n",
    "\n",
    "Existem 120 números reversíveis abaixo de 1000.\n",
    "\n",
    "Construa um algoritmo que mostre na tela todos os números n onde a soma de n + reverso(n) resultem em números ímpares que estão abaixo de 1 milhão."
   ]
  },
  {
   "cell_type": "code",
   "execution_count": 61,
   "id": "2accf69d",
   "metadata": {
    "scrolled": true
   },
   "outputs": [
    {
     "name": "stderr",
     "output_type": "stream",
     "text": [
      "IOPub data rate exceeded.\n",
      "The notebook server will temporarily stop sending output\n",
      "to the client in order to avoid crashing it.\n",
      "To change this limit, set the config variable\n",
      "`--NotebookApp.iopub_data_rate_limit`.\n",
      "\n",
      "Current values:\n",
      "NotebookApp.iopub_data_rate_limit=1000000.0 (bytes/sec)\n",
      "NotebookApp.rate_limit_window=3.0 (secs)\n",
      "\n"
     ]
    }
   ],
   "source": [
    "# 1 - Cria uma Lista vazia\n",
    "# 2 - \"Para cada número de 0 até um milhão, faça: ...\"\n",
    "# 3 - Uso do método \"Slicing\" para extrair os números de forma reversa\n",
    "# 4 - Verifica se o número reverso é divisível por 10, se não, quer dizer que não termina com zero\n",
    "# 5 - Soma o número normal com o reverso e verifica se o resultado é um nº impar\n",
    "# 6 - Grava o resultado dentro de uma lista\n",
    "# 7 - Retorna na tela os resultados\n",
    "\n",
    "lista=[] # 1\n",
    "\n",
    "for i in range(0, 1000000): # 2\n",
    "    revertido = int(str(i)[::-1]) # 3\n",
    "    if i % 10 != 0: # 4\n",
    "        if (i + revertido) % 2 != 0: # 5\n",
    "            lista.append(i) # 6\n",
    "\n",
    "print(f'Estes são todos os {len(lista)} números que obedecem a regra do Desafio 01:\\n\\n{lista}') # 7"
   ]
  },
  {
   "cell_type": "markdown",
   "id": "250c1d1e",
   "metadata": {},
   "source": []
  }
 ],
 "metadata": {
  "kernelspec": {
   "display_name": "Python 3 (ipykernel)",
   "language": "python",
   "name": "python3"
  },
  "language_info": {
   "codemirror_mode": {
    "name": "ipython",
    "version": 3
   },
   "file_extension": ".py",
   "mimetype": "text/x-python",
   "name": "python",
   "nbconvert_exporter": "python",
   "pygments_lexer": "ipython3",
   "version": "3.8.12"
  }
 },
 "nbformat": 4,
 "nbformat_minor": 5
}
