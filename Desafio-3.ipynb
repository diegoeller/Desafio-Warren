{
 "cells": [
  {
   "cell_type": "markdown",
   "id": "836f3a09",
   "metadata": {},
   "source": [
    "# Desafio de Programação – Warren Tech Academy"
   ]
  },
  {
   "cell_type": "markdown",
   "id": "83af37e9",
   "metadata": {},
   "source": [
    "## Desafio 3"
   ]
  },
  {
   "cell_type": "markdown",
   "id": "5fbc881b",
   "metadata": {},
   "source": [
    "Dado um vetor de números e um número n. Determine a soma com o menor número de elementos entre os números do vetor mais próxima de n e também mostre os elementos que compõem a soma. Para criar a soma, utilize qualquer elemento do vetor uma ou mais vezes.\n",
    "\n",
    "Exemplo:\n",
    "\n",
    "Entrada de dados:\n",
    "\n",
    "N = 10\n",
    "\n",
    "V = [2, 3, 4]\n",
    "\n",
    "Saída de dados:\n",
    "\n",
    "10\n",
    "\n",
    "[2, 4, 4]\n",
    "\n",
    "[3, 3, 4]\n",
    "\n",
    "Explicação:\n",
    "\n",
    "Se N = 10 e V = [2, 3, 4] você pode utilizar as seguintes soma: [2, 2, 2, 2, 2], [2, 2, 3, 3], [2, 4, 4] ou [3, 3, 4]. Como a quantidade de elementos em [2, 4, 4] e [3, 3, 4] é igual, os dois conjuntos devem ser mostrados."
   ]
  },
  {
   "cell_type": "code",
   "execution_count": null,
   "id": "6dded9a0",
   "metadata": {},
   "outputs": [],
   "source": [
    "# 1 - Importa uma função que combina valores de uma lista x vezes\n",
    "# 2 - Usuário digita um valor N\n",
    "# 3 - Usuário digita uma lista\n",
    "# 4 - Transforma os números digitados pelo usuário em uma lista de Strings\n",
    "# 5 - Usuário digita o nº de elementos desejados para o somatório\n",
    "# 6 - Cria listas com combinações baseadas nos valores dentro da lista (1º Parâmetro da função), retornando sempre x elementos (2º Parâmetro da função)\n",
    "# 7 - Separa as listas de combinações da lista original digitada pelo usuário\n",
    "# 8 - Cria uma variável Inteira\n",
    "# 9 - Separa cada elemento das listas da lista original\n",
    "# 10 - Soma cada elemento dentro das listas\n",
    "# 11 - Verifica se o somatório de cada uma das listas é igual ao valor N digitado pelo usuário\n",
    "# 12 - Retorna na tela os resultados\n",
    "\n",
    "from itertools import combinations_with_replacement #1\n",
    "\n",
    "N = int(input('Digite um valor N: ')) #2\n",
    "\n",
    "lista_input = str(input('Digite números separados por espaços: ')) #3\n",
    "\n",
    "lista = lista_input.split() #4\n",
    "\n",
    "elementos = int(input('Digite o número de elementos para somatório: ')) #5\n",
    "\n",
    "combinacoes = combinations_with_replacement(lista, elementos) #6\n",
    "\n",
    "for i in combinacoes: #7\n",
    "    soma = 0 #8\n",
    "    for i2 in i: #9\n",
    "        soma += int(i2) #10\n",
    "    if soma == N: #11\n",
    "        print(f'\\nA combinação dos números {i} resulta em {N} \\n') #12"
   ]
  },
  {
   "cell_type": "code",
   "execution_count": null,
   "id": "34e3da72",
   "metadata": {},
   "outputs": [],
   "source": []
  }
 ],
 "metadata": {
  "kernelspec": {
   "display_name": "Python 3 (ipykernel)",
   "language": "python",
   "name": "python3"
  },
  "language_info": {
   "codemirror_mode": {
    "name": "ipython",
    "version": 3
   },
   "file_extension": ".py",
   "mimetype": "text/x-python",
   "name": "python",
   "nbconvert_exporter": "python",
   "pygments_lexer": "ipython3",
   "version": "3.8.12"
  }
 },
 "nbformat": 4,
 "nbformat_minor": 5
}
